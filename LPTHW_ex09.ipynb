{
 "cells": [
  {
   "cell_type": "code",
   "execution_count": 1,
   "id": "231b4b79",
   "metadata": {},
   "outputs": [
    {
     "name": "stdout",
     "output_type": "stream",
     "text": [
      "Here are the days: Mon Tue Wed Thu Fri Sat Sun\n",
      "Here are the months: Jan\n",
      "Feb\n",
      "Mar\n",
      "Apr\n",
      "May\n",
      "Jun\n",
      "Jul\n",
      "Aug\n",
      "\n",
      "    There's something going on here.\n",
      "    With the three double-quotes.\n",
      "    We'll be able to type as much as we like.\n",
      "    Even 4 lines if we want, or 5, or 6.\n",
      "    \n"
     ]
    }
   ],
   "source": [
    "# -*- coding: utf-8 -*-\n",
    "# Exercise 9: Printing, Printing, Printing\n",
    "\n",
    "def main():\n",
    "    days = \"Mon Tue Wed Thu Fri Sat Sun\"\n",
    "    months = \"Jan\\nFeb\\nMar\\nApr\\nMay\\nJun\\nJul\\nAug\"\n",
    "    print(\"Here are the days:\",days)\n",
    "    print(\"Here are the months:\",months)\n",
    "    print(\"\"\"\n",
    "    There's something going on here.\n",
    "    With the three double-quotes.\n",
    "    We'll be able to type as much as we like.\n",
    "    Even 4 lines if we want, or 5, or 6.\n",
    "    \"\"\")\n",
    "\n",
    "if __name__ == \"__main__\":\n",
    "    main()\n"
   ]
  },
  {
   "cell_type": "code",
   "execution_count": null,
   "id": "bba5d128",
   "metadata": {},
   "outputs": [],
   "source": []
  }
 ],
 "metadata": {
  "kernelspec": {
   "display_name": "Python 3 (ipykernel)",
   "language": "python",
   "name": "python3"
  },
  "language_info": {
   "codemirror_mode": {
    "name": "ipython",
    "version": 3
   },
   "file_extension": ".py",
   "mimetype": "text/x-python",
   "name": "python",
   "nbconvert_exporter": "python",
   "pygments_lexer": "ipython3",
   "version": "3.10.4"
  }
 },
 "nbformat": 4,
 "nbformat_minor": 5
}
