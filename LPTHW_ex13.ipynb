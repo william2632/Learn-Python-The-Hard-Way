{
 "cells": [
  {
   "cell_type": "code",
   "execution_count": 2,
   "id": "231b4b79",
   "metadata": {},
   "outputs": [
    {
     "name": "stdout",
     "output_type": "stream",
     "text": [
      "How old are you?\n"
     ]
    }
   ],
   "source": [
    "# -*- coding: utf-8 -*-\n",
    "# Exercise 13: Parameters, Unpacking, Variables\n",
    "from sys import argv\n",
    "\n",
    "def main(argv):\n",
    "    print(\"the script has %d argement.\"%(len(argv)-1))\n",
    "    script, first, second, third = argv\n",
    "    print(\"The script is called:\", script)\n",
    "    print(\"Your first variable is:\", first)\n",
    "    print(\"Your second variable is:\", second)\n",
    "    print(\"Your third variable is:\", third)\n",
    "\n",
    "if __name__ == \"__main__\":\n",
    "    main(argv)\n"
   ]
  },
  {
   "cell_type": "code",
   "execution_count": null,
   "id": "bba5d128",
   "metadata": {},
   "outputs": [],
   "source": []
  }
 ],
 "metadata": {
  "kernelspec": {
   "display_name": "Python 3 (ipykernel)",
   "language": "python",
   "name": "python3"
  },
  "language_info": {
   "codemirror_mode": {
    "name": "ipython",
    "version": 3
   },
   "file_extension": ".py",
   "mimetype": "text/x-python",
   "name": "python",
   "nbconvert_exporter": "python",
   "pygments_lexer": "ipython3",
   "version": "3.10.4"
  }
 },
 "nbformat": 4,
 "nbformat_minor": 5
}
