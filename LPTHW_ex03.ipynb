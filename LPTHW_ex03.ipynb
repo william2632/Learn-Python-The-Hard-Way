{
 "cells": [
  {
   "cell_type": "code",
   "execution_count": 7,
   "id": "231b4b79",
   "metadata": {},
   "outputs": [
    {
     "name": "stdout",
     "output_type": "stream",
     "text": [
      "I will now count my chickens:\n",
      "Hens: 30\n",
      "Roosters: 97.0\n",
      "Now I will count the eggs:\n",
      "eggs: 6.75\n",
      "Is it true that 3+2 < 5-7?\n",
      "False\n",
      "what is 3+2? (5+0j)\n",
      "complex: (3+4j)\n",
      "what is 5-7? -2\n",
      "Oh, that's why it 's False.\n",
      "How about some more.\n",
      "Is it greater? True\n",
      "Is it greater or equal? True\n",
      "Is it less or equal? False\n",
      "Guru99_03\n"
     ]
    }
   ],
   "source": [
    "# Exercise 3: Numbers and Math\n",
    "# + plus\n",
    "# - minus\n",
    "# / slash\n",
    "# * asterisk\n",
    "# % percent\n",
    "# < less-than\n",
    "# > greater-than\n",
    "# <= less-than-equal\n",
    "# >= greater-than-equal\n",
    "\n",
    "def main():\n",
    "    print(\"I will now count my chickens:\")\n",
    "    print(\"Hens:\",25+int(30/6))\n",
    "    print(\"Roosters:\",float(100)-25*3%4)\n",
    "\n",
    "    print(\"Now I will count the eggs:\")\n",
    "    print(\"eggs:\",3+2+1-5+4%2-1/4+6)\n",
    "\n",
    "    print(\"Is it true that 3+2 < 5-7?\")\n",
    "    print(3+2<5-7)\n",
    "\n",
    "    print(\"what is 3+2?\",complex(3+2))\n",
    "    print(\"complex:\",complex(3,4))\n",
    "    print(\"what is 5-7?\",5-7)\n",
    "    print(\"Oh, that's why it 's False.\")\n",
    "    print(\"How about some more.\")\n",
    "\n",
    "    print(\"Is it greater?\",5>-2)\n",
    "    print(\"Is it greater or equal?\", 5 >= -2 )\n",
    "    print(\"Is it less or equal?\", 5<= -2)\n",
    "\n",
    "\n",
    "if __name__ == \"__main__\":\n",
    "    main()\n",
    "\n",
    "print(\"Guru99_03\")"
   ]
  },
  {
   "cell_type": "code",
   "execution_count": null,
   "id": "bba5d128",
   "metadata": {},
   "outputs": [],
   "source": []
  }
 ],
 "metadata": {
  "kernelspec": {
   "display_name": "Python 3 (ipykernel)",
   "language": "python",
   "name": "python3"
  },
  "language_info": {
   "codemirror_mode": {
    "name": "ipython",
    "version": 3
   },
   "file_extension": ".py",
   "mimetype": "text/x-python",
   "name": "python",
   "nbconvert_exporter": "python",
   "pygments_lexer": "ipython3",
   "version": "3.10.2"
  }
 },
 "nbformat": 4,
 "nbformat_minor": 5
}
