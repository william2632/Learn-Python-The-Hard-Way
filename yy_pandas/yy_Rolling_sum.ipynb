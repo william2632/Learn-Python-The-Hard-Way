{
 "cells": [
  {
   "cell_type": "code",
   "execution_count": 1,
   "metadata": {},
   "outputs": [],
   "source": [
    "import pandas as pd\n",
    "import os\n",
    "import glob"
   ]
  },
  {
   "cell_type": "code",
   "execution_count": null,
   "metadata": {},
   "outputs": [],
   "source": []
  },
  {
   "cell_type": "code",
   "execution_count": 2,
   "metadata": {},
   "outputs": [],
   "source": [
    "#define result location\n",
    "path = r'C:\\Users\\nshukla_d\\Documents\\Python Scripts\\Moodys\\Moodys Output\\Results with dial\\Results'\n",
    "files = os.listdir(path)\n",
    "df_total = pd.DataFrame()\n",
    "df_total_1 = pd.DataFrame()"
   ]
  },
  {
   "cell_type": "code",
   "execution_count": 3,
   "metadata": {},
   "outputs": [],
   "source": [
    "#reading sheets\n",
    "for file in files:\n",
    "    df_temp = pd.read_excel(path +\"\\\\\"+file, sheet_name = 'Portfolio_Cashflows', header=5)\n",
    "    df_temp1 = pd.read_excel(path +\"\\\\\"+file, sheet_name = 'Loan_Level', header=5)\n",
    "    df_temp['period'] = file[:-5]\n",
    "    df_total = df_total.append(df_temp)\n",
    "    df_temp1['period'] = file[:-5]\n",
    "    df_total_1 = df_total_1.append(df_temp1)"
   ]
  },
  {
   "cell_type": "code",
   "execution_count": 4,
   "metadata": {},
   "outputs": [],
   "source": [
    "# making copies of relevant columns\n",
    "cashflow = df_total[['Year', 'Month','Prepayment Amount','Default Amount','Pool Balance','period']].copy()\n",
    "pool_balance = df_total_1[['period', 'Current Balance']].copy()"
   ]
  },
  {
   "cell_type": "code",
   "execution_count": 5,
   "metadata": {},
   "outputs": [],
   "source": [
    "#rolling 36M sum. Change number of horizon\n",
    "cashflow['Rolling Prepayment'] = cashflow.groupby(cashflow.period)['Prepayment Amount'].apply(lambda x: x.rolling(37).sum())\n",
    "#cashflow['Prepayment Amount'].rolling(37).sum().groupby('period')\n",
    "#cashflow['Rolling Default'] = cashflow['Default Amount'].rolling(37).sum().groupby('period')\n",
    "cashflow['Rolling Default'] = cashflow.groupby(cashflow.period)['Default Amount'].apply(lambda x: x.rolling(37).sum())"
   ]
  },
  {
   "cell_type": "code",
   "execution_count": 6,
   "metadata": {},
   "outputs": [],
   "source": [
    "cashflow_final=cashflow.dropna()"
   ]
  },
  {
   "cell_type": "code",
   "execution_count": 7,
   "metadata": {},
   "outputs": [],
   "source": [
    "pool_balance_final = pool_balance.groupby('period').sum()"
   ]
  },
  {
   "cell_type": "code",
   "execution_count": 8,
   "metadata": {},
   "outputs": [],
   "source": [
    "x = pd.merge(cashflow_final,pool_balance_final,on = 'period')"
   ]
  },
  {
   "cell_type": "code",
   "execution_count": 9,
   "metadata": {},
   "outputs": [],
   "source": [
    "x.to_excel('Final_reperforming.xlsx', index = False)"
   ]
  },
  {
   "cell_type": "code",
   "execution_count": null,
   "metadata": {},
   "outputs": [],
   "source": [
    "#cashflow_final"
   ]
  },
  {
   "cell_type": "code",
   "execution_count": null,
   "metadata": {},
   "outputs": [],
   "source": []
  },
  {
   "cell_type": "code",
   "execution_count": null,
   "metadata": {},
   "outputs": [],
   "source": []
  },
  {
   "cell_type": "code",
   "execution_count": null,
   "metadata": {},
   "outputs": [],
   "source": []
  },
  {
   "cell_type": "code",
   "execution_count": null,
   "metadata": {},
   "outputs": [],
   "source": []
  },
  {
   "cell_type": "code",
   "execution_count": null,
   "metadata": {},
   "outputs": [],
   "source": []
  },
  {
   "cell_type": "code",
   "execution_count": null,
   "metadata": {},
   "outputs": [],
   "source": []
  },
  {
   "cell_type": "code",
   "execution_count": null,
   "metadata": {},
   "outputs": [],
   "source": []
  },
  {
   "cell_type": "code",
   "execution_count": null,
   "metadata": {},
   "outputs": [],
   "source": []
  }
 ],
 "metadata": {
  "kernelspec": {
   "display_name": "Python 3",
   "language": "python",
   "name": "python3"
  },
  "language_info": {
   "codemirror_mode": {
    "name": "ipython",
    "version": 3
   },
   "file_extension": ".py",
   "mimetype": "text/x-python",
   "name": "python",
   "nbconvert_exporter": "python",
   "pygments_lexer": "ipython3",
   "version": "3.7.3"
  }
 },
 "nbformat": 4,
 "nbformat_minor": 2
}
