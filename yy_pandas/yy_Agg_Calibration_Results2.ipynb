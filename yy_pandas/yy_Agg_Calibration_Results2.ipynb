{
 "cells": [
  {
   "cell_type": "code",
   "execution_count": 3,
   "metadata": {},
   "outputs": [
    {
     "name": "stdout",
     "output_type": "stream",
     "text": [
      "                        Name  SI  Handles             VM         WS  \\\n",
      "0   AppleMobileDeviceService   0      224     4445839360   14295040   \n",
      "1       ApplicationFrameHost   1      333  2203570000000   30937088   \n",
      "2                   atieclxx   1      293     4436774912   14655488   \n",
      "3                   atiesrxx   0      191     4373569536    6803456   \n",
      "4                    BrYNSvc   0      210       55984128   10846208   \n",
      "5                       Idle   0        0           8192       8192   \n",
      "6                    vivaldi   1      614  2263900000000  118091776   \n",
      "7                    vivaldi   1      370  2263910000000  112377856   \n",
      "8                    vivaldi   1      614  2263980000000  142139392   \n",
      "9                    vivaldi   1      267  2263870000000   28987392   \n",
      "10                   vivaldi   1      441  2264000000000  120348672   \n",
      "11                 vmnetdhcp   0       82       66293760   12230656   \n",
      "12              vmware-authd   0      215      120164352   11964416   \n",
      "\n",
      "          Filename  \n",
      "0   processes_0418  \n",
      "1   processes_0418  \n",
      "2   processes_0418  \n",
      "3   processes_0418  \n",
      "4   processes_0418  \n",
      "5   processes_0418  \n",
      "6   processes_0418  \n",
      "7   processes_0418  \n",
      "8   processes_0418  \n",
      "9   processes_0418  \n",
      "10  processes_0418  \n",
      "11  processes_0418  \n",
      "12  processes_0418  \n",
      "Int64Index([224, 333, 293, 191, 210, 0, 614, 370, 614, 267, 441, 82, 215], dtype='int64', name='Handles')\n",
      "{224, 0, 293, 614, 267, 333, 210, 370, 82, 215, 441, 191}\n"
     ]
    }
   ],
   "source": [
    "import pandas as pd\n",
    "import os\n",
    "import glob\n",
    "\n",
    "#define result location\n",
    "path = r'C:\\OneDrive\\python\\Github_Rep\\Learn-Python-The-Hard-Way\\yy_pandas'\n",
    "#files = os.listdir(path)\n",
    "#df_total = pd.DataFrame()\n",
    "#df_total_1 = pd.DataFrame()\n",
    "#reading sheets\n",
    "#for file in files:\n",
    "file='processes_0418.xlsx'\n",
    "df_temp = pd.read_excel(path +\"\\\\\"+file, skiprows=0, usecols='A:E',  header=0).dropna()\n",
    "df_temp['Filename'] = file[:-5]\n",
    "print(df_temp)\n",
    "i1 = df_temp.set_index(df_temp['Handles']).index\n",
    "print(i1)\n",
    "value=set(df_temp['Handles'])\n",
    "print(value)\n",
    "\n",
    "    \n",
    "#df_total = df_total.append(df_temp)\n",
    "#df_total.to_excel('Calibration_Agg.xlsx', index = False)"
   ]
  }
 ],
 "metadata": {
  "kernelspec": {
   "display_name": "Python 3",
   "language": "python",
   "name": "python3"
  },
  "language_info": {
   "codemirror_mode": {
    "name": "ipython",
    "version": 3
   },
   "file_extension": ".py",
   "mimetype": "text/x-python",
   "name": "python",
   "nbconvert_exporter": "python",
   "pygments_lexer": "ipython3",
   "version": "3.10.4"
  }
 },
 "nbformat": 4,
 "nbformat_minor": 2
}
