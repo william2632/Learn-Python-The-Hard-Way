{
 "cells": [
  {
   "cell_type": "code",
   "execution_count": 1,
   "metadata": {},
   "outputs": [],
   "source": [
    "import pandas as pd\n",
    "import numpy as np\n",
    "import datetime as dt\n"
   ]
  },
  {
   "cell_type": "code",
   "execution_count": 2,
   "metadata": {},
   "outputs": [],
   "source": [
    "#define dynamic and static file location\n",
    "df_dynamic = pd.read_csv(r'C:\\Users\\nshukla_d\\Documents\\Python Scripts\\Moodys\\Moodys Input\\Dynamic_File_System_All_Header_2\\Dynamic_File_System_All_Header_2.csv')\n",
    "df_static = pd.read_csv(r\"C:\\Users\\nshukla_d\\Documents\\Python Scripts\\Moodys\\Moodys Input\\Static_File_System_All_Header.csv\")\n"
   ]
  },
  {
   "cell_type": "code",
   "execution_count": 2,
   "metadata": {},
   "outputs": [],
   "source": []
  },
  {
   "cell_type": "code",
   "execution_count": 3,
   "metadata": {},
   "outputs": [],
   "source": [
    "#use segment field for manipulation\n",
    "df_static['Segment'] = pd.DatetimeIndex(df_static['OriginationDate']).year"
   ]
  },
  {
   "cell_type": "code",
   "execution_count": 5,
   "metadata": {},
   "outputs": [],
   "source": [
    "#pd.set_option('display.max_columns', None)"
   ]
  },
  {
   "cell_type": "code",
   "execution_count": null,
   "metadata": {},
   "outputs": [],
   "source": [
    "#use below if writing to csv instead of xlsx\n",
    "#df_static = df_static.astype({'Zip': 'str'})"
   ]
  },
  {
   "cell_type": "code",
   "execution_count": 4,
   "metadata": {},
   "outputs": [],
   "source": [
    "#placeholders for defining model type, dials\n",
    "#df_static['AgencyName'] ='FannieMae'\n",
    "#df_static['Default[1]'] = 0.97\n",
    "#df_static['Default[12]'] = 0.97\n",
    "#df_static['Default[13]'] = 1\n",
    "#df_static['Prepayment[1]'] = 1.08\n",
    "#df_static['Prepayment[12]'] = 1.08\n",
    "#df_static['Prepayment[13]'] = 1\n",
    "\n",
    "\n",
    "\n",
    "\n"
   ]
  },
  {
   "cell_type": "code",
   "execution_count": 5,
   "metadata": {},
   "outputs": [],
   "source": []
  },
  {
   "cell_type": "code",
   "execution_count": 5,
   "metadata": {},
   "outputs": [],
   "source": [
    "#break static into vintages\n",
    "df_static_pre2003 = df_static[df_static['Segment']< 2003]\n",
    "df_static_2003 = df_static[df_static['Segment']== 2003]\n",
    "df_static_2004 = df_static[df_static['Segment']== 2004]\n",
    "df_static_2005 = df_static[df_static['Segment']== 2005]\n",
    "df_static_2006 = df_static[df_static['Segment']== 2006]\n",
    "df_static_2007 = df_static[df_static['Segment']== 2007]\n",
    "df_static_2008 = df_static[df_static['Segment']== 2008]\n",
    "df_static_2009 = df_static[df_static['Segment']== 2009]\n",
    "df_static_2010 = df_static[df_static['Segment']== 2010]\n",
    "df_static_2011 = df_static[df_static['Segment']== 2011]\n",
    "df_static_2012 = df_static[df_static['Segment']== 2012]\n",
    "df_static_2013 = df_static[df_static['Segment']== 2013]\n",
    "df_static_2014 = df_static[df_static['Segment']== 2014]\n",
    "df_static_2015 = df_static[df_static['Segment']== 2015]\n",
    "df_static_2016 = df_static[df_static['Segment']== 2016]\n",
    "df_static_2017 = df_static[df_static['Segment']== 2017]\n",
    "df_static_2018 = df_static[df_static['Segment']== 2018]\n",
    "df_static_2019 = df_static[df_static['Segment']== 2019]\n",
    "df_static_2020 = df_static[df_static['Segment']== 2020]\n",
    "df_static_post2020 = df_static[df_static['Segment'] > 2020]"
   ]
  },
  {
   "cell_type": "code",
   "execution_count": 6,
   "metadata": {},
   "outputs": [],
   "source": [
    "i1 = df_dynamic.set_index(df_dynamic['LoanID']).index\n",
    "values = set(df_dynamic['LoanID'])\n"
   ]
  },
  {
   "cell_type": "code",
   "execution_count": 8,
   "metadata": {},
   "outputs": [],
   "source": [
    "##example below if breaking static for >2009 vintages\n",
    "#df_static_post2009 = df_static[df_static['Segment']>= 2009]\n",
    "#df_static_post2009['Match'] = df_static_post2009['LoanID'].isin(values).astype(int)\n",
    "#i_post2009 = df_static_post2009.set_index(df_static_post2009['LoanID']).index\n",
    "#df_dynamic_post2009 = df_dynamic[i1.isin(i_post2009)]\n",
    "#df_static_post2009.to_excel('Static_Post2009.xlsx', index = False)\n",
    "#df_dynamic_post2009.to_csv('Dynamic_Post2009.csv', index = False)"
   ]
  },
  {
   "cell_type": "code",
   "execution_count": null,
   "metadata": {},
   "outputs": [],
   "source": [
    "#set index as LoanID to prepare for lookup\n",
    "i_pre2003 = df_static_pre2003.set_index(df_static_pre2003['LoanID']).index\n",
    "i_2003 = df_static_2003.set_index(df_static_2003['LoanID']).index\n",
    "i_2004 = df_static_2004.set_index(df_static_2004['LoanID']).index\n",
    "i_2005 = df_static_2005.set_index(df_static_2005['LoanID']).index\n",
    "i_2006 = df_static_2006.set_index(df_static_2006['LoanID']).index\n",
    "i_2007 = df_static_2007.set_index(df_static_2007['LoanID']).index\n",
    "i_2008 = df_static_2008.set_index(df_static_2008['LoanID']).index\n",
    "i_2009 = df_static_2009.set_index(df_static_2009['LoanID']).index\n",
    "i_2010 = df_static_2010.set_index(df_static_2010['LoanID']).index\n",
    "i_2011 = df_static_2011.set_index(df_static_2011['LoanID']).index\n",
    "i_2012 = df_static_2012.set_index(df_static_2012['LoanID']).index\n",
    "i_2013 = df_static_2013.set_index(df_static_2013['LoanID']).index\n",
    "i_2014 = df_static_2014.set_index(df_static_2014['LoanID']).index\n",
    "i_2015 = df_static_2015.set_index(df_static_2015['LoanID']).index\n",
    "i_2016 = df_static_2016.set_index(df_static_2016['LoanID']).index\n",
    "i_2017 = df_static_2017.set_index(df_static_2017['LoanID']).index\n",
    "i_2018 = df_static_2018.set_index(df_static_2018['LoanID']).index\n",
    "i_2019 = df_static_2019.set_index(df_static_2019['LoanID']).index\n",
    "i_2020 = df_static_2020.set_index(df_static_2020['LoanID']).index\n",
    "i_post2020 = df_static_post2020.set_index(df_static_post2020['LoanID']).index"
   ]
  },
  {
   "cell_type": "code",
   "execution_count": null,
   "metadata": {},
   "outputs": [],
   "source": [
    "#select all rows in dynamic where loan id exist in static\n",
    "df_dynamic_pre2003 = df_dynamic[i1.isin(i_pre2003)]\n",
    "df_dynamic_2003 = df_dynamic[i1.isin(i_2003)]\n",
    "df_dynamic_2004 = df_dynamic[i1.isin(i_2004)]\n",
    "df_dynamic_2005 = df_dynamic[i1.isin(i_2005)]\n",
    "df_dynamic_2006 = df_dynamic[i1.isin(i_2006)]\n",
    "df_dynamic_2007 = df_dynamic[i1.isin(i_2007)]\n",
    "df_dynamic_2008 = df_dynamic[i1.isin(i_2008)]\n",
    "df_dynamic_2009 = df_dynamic[i1.isin(i_2009)]\n",
    "df_dynamic_2010 = df_dynamic[i1.isin(i_2010)]\n",
    "df_dynamic_2011 = df_dynamic[i1.isin(i_2011)]\n",
    "df_dynamic_2012 = df_dynamic[i1.isin(i_2012)]\n",
    "df_dynamic_2013 = df_dynamic[i1.isin(i_2013)]\n",
    "df_dynamic_2014 = df_dynamic[i1.isin(i_2014)]\n",
    "df_dynamic_2015 = df_dynamic[i1.isin(i_2015)]\n",
    "df_dynamic_2016 = df_dynamic[i1.isin(i_2016)]\n",
    "df_dynamic_2017 = df_dynamic[i1.isin(i_2017)]\n",
    "df_dynamic_2018 = df_dynamic[i1.isin(i_2018)]\n",
    "df_dynamic_2019 = df_dynamic[i1.isin(i_2019)]\n",
    "df_dynamic_2020 = df_dynamic[i1.isin(i_2020)]\n",
    "df_dynamic_post2020 = df_dynamic[i1.isin(i_post2020)]"
   ]
  },
  {
   "cell_type": "code",
   "execution_count": null,
   "metadata": {},
   "outputs": [],
   "source": [
    "#example of breaking static by amort term\n",
    "#df_static_15Y = df_static[df_static['AmorTerm'] <= 180]\n",
    "#df_static_30Y = df_static[df_static['AmorTerm'] > 180]\n",
    "#i_15Y = df_static_15Y.set_index(df_static_15Y['LoanID']).index\n",
    "#i_30Y = df_static_30Y.set_index(df_static_30Y['LoanID']).index\n",
    "#df_dynamic_15Y = df_dynamic[i1.isin(i_15Y)]\n",
    "#df_dynamic_30Y = df_dynamic[i1.isin(i_30Y)]"
   ]
  },
  {
   "cell_type": "code",
   "execution_count": 6,
   "metadata": {},
   "outputs": [],
   "source": [
    "#write to csv or xlsx. if csv make sure to run zip as str block above\n",
    "df_static_pre2003.to_excel('Static_Pre2003.xlsx', index = False)\n",
    "df_static_2003.to_excel('Static_2003.xlsx', index = False)\n",
    "df_static_2004.to_excel('Static_2004.xlsx', index = False)\n",
    "df_static_2005.to_excel('Static_2005.xlsx', index = False)\n",
    "df_static_2006.to_excel('Static_2006.xlsx', index = False)\n",
    "df_static_2007.to_excel('Static_2007.xlsx', index = False)\n",
    "df_static_2008.to_excel('Static_2008.xlsx', index = False)\n",
    "df_static_2009.to_excel('Static_2009.xlsx', index = False)\n",
    "df_static_2010.to_excel('Static_2010.xlsx', index = False)\n",
    "df_static_2011.to_excel('Static_2011.xlsx', index = False)\n",
    "df_static_2012.to_excel('Static_2012.xlsx', index = False)\n",
    "df_static_2013.to_excel('Static_2013.xlsx', index = False)\n",
    "df_static_2014.to_excel('Static_2014.xlsx', index = False)\n",
    "df_static_2015.to_excel('Static_2015.xlsx', index = False)\n",
    "df_static_2016.to_excel('Static_2016.xlsx', index = False)\n",
    "df_static_2017.to_excel('Static_2017.xlsx', index = False)\n",
    "df_static_2018.to_excel('Static_2018.xlsx', index = False)\n",
    "df_static_2019.to_excel('Static_2019.xlsx', index = False)\n",
    "df_static_2020.to_excel('Static_2020.xlsx', index = False)\n",
    "df_static_post2020.to_excel('Static_Post2020.xlsx', index = False)"
   ]
  },
  {
   "cell_type": "code",
   "execution_count": null,
   "metadata": {},
   "outputs": [],
   "source": [
    "df_dynamic_pre2003.to_csv('Dynamic_Pre2003.csv', index = False)\n",
    "df_dynamic_2003.to_csv('Dynamic_2003.csv', index = False)\n",
    "df_dynamic_2004.to_csv('Dynamic_2004.csv', index = False)\n",
    "df_dynamic_2005.to_csv('Dynamic_2005.csv', index = False)\n",
    "df_dynamic_2006.to_csv('Dynamic_2006.csv', index = False)\n",
    "df_dynamic_2007.to_csv('Dynamic_2007.csv', index = False)\n",
    "df_dynamic_2008.to_csv('Dynamic_2008.csv', index = False)\n",
    "df_dynamic_2009.to_csv('Dynamic_2009.csv', index = False)\n",
    "df_dynamic_2010.to_csv('Dynamic_2010.csv', index = False)\n",
    "df_dynamic_2011.to_csv('Dynamic_2011.csv', index = False)\n",
    "df_dynamic_2012.to_csv('Dynamic_2012.csv', index = False)\n",
    "df_dynamic_2013.to_csv('Dynamic_2013.csv', index = False)\n",
    "df_dynamic_2014.to_csv('Dynamic_2014.csv', index = False)\n",
    "df_dynamic_2015.to_csv('Dynamic_2015.csv', index = False)\n",
    "df_dynamic_2016.to_csv('Dynamic_2016.csv', index = False)\n",
    "df_dynamic_2017.to_csv('Dynamic_2017.csv', index = False)\n",
    "df_dynamic_2018.to_csv('Dynamic_2018.csv', index = False)\n",
    "df_dynamic_2019.to_csv('Dynamic_2019.csv', index = False)\n",
    "df_dynamic_2020.to_csv('Dynamic_2020.csv', index = False)\n",
    "df_dynamic_post2020.to_csv('Dynamic_Post2020.csv', index = False)\n"
   ]
  },
  {
   "cell_type": "code",
   "execution_count": null,
   "metadata": {},
   "outputs": [],
   "source": []
  },
  {
   "cell_type": "code",
   "execution_count": null,
   "metadata": {},
   "outputs": [],
   "source": []
  },
  {
   "cell_type": "code",
   "execution_count": null,
   "metadata": {},
   "outputs": [],
   "source": []
  },
  {
   "cell_type": "code",
   "execution_count": null,
   "metadata": {},
   "outputs": [],
   "source": []
  }
 ],
 "metadata": {
  "kernelspec": {
   "display_name": "Python 3",
   "language": "python",
   "name": "python3"
  },
  "language_info": {
   "codemirror_mode": {
    "name": "ipython",
    "version": 3
   },
   "file_extension": ".py",
   "mimetype": "text/x-python",
   "name": "python",
   "nbconvert_exporter": "python",
   "pygments_lexer": "ipython3",
   "version": "3.7.3"
  }
 },
 "nbformat": 4,
 "nbformat_minor": 2
}
