{
 "cells": [
  {
   "cell_type": "code",
   "execution_count": 2,
   "id": "231b4b79",
   "metadata": {},
   "outputs": [
    {
     "name": "stdout",
     "output_type": "stream",
     "text": [
      "How old are you?\n"
     ]
    }
   ],
   "source": [
    "# -*- coding: utf-8 -*-\n",
    "# Exercise 11:Asking Questions\n",
    "\n",
    "def main():\n",
    "    print(\"How old are you?\",end='')\n",
    "    age=input()\n",
    "    print(\"you are %s\"%age)\n",
    "    print(\"you are %r\"%age)\n",
    "    print(\"you are %d\"%int(age))\n",
    "    print(\"you are %r\"%int(age))\n",
    "\n",
    "    age2=input(\"How old are you 2? \")\n",
    "    print(\"you are %s\"%age2)\n",
    "\n",
    "    print(\"How old are you?\",\"How tall are you?\",\"how much do you weigh?\",sep=\"|\",end='',flush=True)\n",
    "    print(\"How old are you?\",\"How tall are you?\",\"how much do you weigh?\",sep=\"|\",flush=True)\n",
    "\n",
    "if __name__ == \"__main__\":\n",
    "    main()\n"
   ]
  },
  {
   "cell_type": "code",
   "execution_count": null,
   "id": "bba5d128",
   "metadata": {},
   "outputs": [],
   "source": []
  }
 ],
 "metadata": {
  "kernelspec": {
   "display_name": "Python 3 (ipykernel)",
   "language": "python",
   "name": "python3"
  },
  "language_info": {
   "codemirror_mode": {
    "name": "ipython",
    "version": 3
   },
   "file_extension": ".py",
   "mimetype": "text/x-python",
   "name": "python",
   "nbconvert_exporter": "python",
   "pygments_lexer": "ipython3",
   "version": "3.10.4"
  }
 },
 "nbformat": 4,
 "nbformat_minor": 5
}
