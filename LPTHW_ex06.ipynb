{
 "cells": [
  {
   "cell_type": "code",
   "execution_count": 7,
   "id": "231b4b79",
   "metadata": {},
   "outputs": [
    {
     "name": "stdout",
     "output_type": "stream",
     "text": [
      "There are 10 types of people.\n",
      "Those who know binary and those who don't.\n",
      "I said: 'There are 10 types of people.'.\n",
      "I also said: 'Those who know binary and those who don't.'.\n",
      "Isn't that joke so funny?! False\n",
      "this is the left side of ... a string with a right side.\n"
     ]
    }
   ],
   "source": [
    "# -*- coding: utf-8 -*-\n",
    "# Exercise 6: Strings and Text\n",
    "\n",
    "def main():\n",
    "    x = \"There are %d types of people.\" % 10\n",
    "    binary = \"binary\"\n",
    "    do_not = \"don't\"\n",
    "    y = \"Those who know %s and those who %s.\" %(binary, do_not)\n",
    "    print(x)\n",
    "    print(y)\n",
    "\n",
    "    print(\"I said: %r.\"%x)\n",
    "    print(\"I also said: '%s'.\"%y)\n",
    "\n",
    "    hilarious = False\n",
    "    joke_evaluation = \"Isn't that joke so funny?! %r\"\n",
    "    print(joke_evaluation % hilarious)\n",
    "\n",
    "    w = 'this is the left side of ...'\n",
    "    e = ' a string with a right side.'\n",
    "    print(w + e)\n",
    "\n",
    "\n",
    "\n",
    "if __name__ == \"__main__\":\n",
    "    main()\n"
   ]
  },
  {
   "cell_type": "code",
   "execution_count": null,
   "id": "bba5d128",
   "metadata": {},
   "outputs": [],
   "source": []
  }
 ],
 "metadata": {
  "kernelspec": {
   "display_name": "Python 3 (ipykernel)",
   "language": "python",
   "name": "python3"
  },
  "language_info": {
   "codemirror_mode": {
    "name": "ipython",
    "version": 3
   },
   "file_extension": ".py",
   "mimetype": "text/x-python",
   "name": "python",
   "nbconvert_exporter": "python",
   "pygments_lexer": "ipython3",
   "version": "3.10.4"
  }
 },
 "nbformat": 4,
 "nbformat_minor": 5
}
