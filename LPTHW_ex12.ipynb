{
 "cells": [
  {
   "cell_type": "code",
   "execution_count": 2,
   "id": "231b4b79",
   "metadata": {},
   "outputs": [
    {
     "name": "stdout",
     "output_type": "stream",
     "text": [
      "How old are you?\n"
     ]
    }
   ],
   "source": [
    "# -*- coding: utf-8 -*-\n",
    "# Exercise 12: Primpting People\n",
    "\n",
    "def main():\n",
    "    age=input(\"How old are you? \")\n",
    "    height=input(\"How tall are you? \")\n",
    "    weight=input(\"How much do you weight? \")\n",
    "\n",
    "    print(\"So you're %r old, %r tall and %r heavy.\"%(age,height,weight))\n",
    "    print(\"So you're %s old, %s tall and %s heavy.\"%(age,height,weight))        #python -m pydoc input\n",
    "\n",
    "if __name__ == \"__main__\":\n",
    "    main()\n"
   ]
  },
  {
   "cell_type": "code",
   "execution_count": null,
   "id": "bba5d128",
   "metadata": {},
   "outputs": [],
   "source": []
  }
 ],
 "metadata": {
  "kernelspec": {
   "display_name": "Python 3 (ipykernel)",
   "language": "python",
   "name": "python3"
  },
  "language_info": {
   "codemirror_mode": {
    "name": "ipython",
    "version": 3
   },
   "file_extension": ".py",
   "mimetype": "text/x-python",
   "name": "python",
   "nbconvert_exporter": "python",
   "pygments_lexer": "ipython3",
   "version": "3.10.4"
  }
 },
 "nbformat": 4,
 "nbformat_minor": 5
}
