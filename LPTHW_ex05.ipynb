{
 "cells": [
  {
   "cell_type": "code",
   "execution_count": 5,
   "id": "231b4b79",
   "metadata": {},
   "outputs": [
    {
     "name": "stdout",
     "output_type": "stream",
     "text": [
      "Let's talk about Zed A. Shaw.\n",
      "He's 74 inches tall.\n",
      "He's 180 pounds heavy.\n",
      "He's got Blue eyes and Brown hair.\n",
      "His teeth are usually White depending on the coffee\n",
      "If I add 35, 74 and 180, I get 289.\n"
     ]
    }
   ],
   "source": [
    "# -*- coding: utf-8 -*-\n",
    "# Exercise 5: More Variables and Printing\n",
    "\n",
    "def main():\n",
    "    my_name = 'Zed A. Shaw'\n",
    "    my_age = 35\n",
    "    my_height = 74\n",
    "    my_weight =180\n",
    "    my_eyes = 'Blue'\n",
    "    my_teeth = 'White'\n",
    "    my_hair = 'Brown'\n",
    "\n",
    "    print(\"Let's talk about %s.\"%my_name)\n",
    "    print(\"He's %d inches tall.\" %my_height)\n",
    "    print(\"He's %d pounds heavy.\" %my_weight)\n",
    "    print(\"He's got %s eyes and %s hair.\" %(my_eyes,my_hair))\n",
    "    print(\"His teeth are usually %s depending on the coffee\"%my_teeth)\n",
    "\n",
    "    print('If I add %d, %d and %d, I get %d.'%(my_age,my_height,my_weight,my_age+my_height+my_weight))\n",
    "\n",
    "\n",
    "if __name__ == \"__main__\":\n",
    "    main()\n"
   ]
  },
  {
   "cell_type": "code",
   "execution_count": null,
   "id": "bba5d128",
   "metadata": {},
   "outputs": [],
   "source": []
  }
 ],
 "metadata": {
  "kernelspec": {
   "display_name": "Python 3 (ipykernel)",
   "language": "python",
   "name": "python3"
  },
  "language_info": {
   "codemirror_mode": {
    "name": "ipython",
    "version": 3
   },
   "file_extension": ".py",
   "mimetype": "text/x-python",
   "name": "python",
   "nbconvert_exporter": "python",
   "pygments_lexer": "ipython3",
   "version": "3.10.4"
  }
 },
 "nbformat": 4,
 "nbformat_minor": 5
}
