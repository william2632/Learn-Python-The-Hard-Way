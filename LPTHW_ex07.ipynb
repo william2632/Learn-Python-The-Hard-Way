{
 "cells": [
  {
   "cell_type": "code",
   "execution_count": 4,
   "id": "231b4b79",
   "metadata": {},
   "outputs": [
    {
     "name": "stdout",
     "output_type": "stream",
     "text": [
      "Mary had a little lamb.\n",
      "Its fleece was white as snow.\n",
      "..........\n",
      "CheeseBurger\n"
     ]
    }
   ],
   "source": [
    "# -*- coding: utf-8 -*-\n",
    "# Exercise 7: More Printing\n",
    "\n",
    "def main():\n",
    "    print(\"Mary had a little lamb.\")\n",
    "    print('Its fleece was white as %s.'%'snow')\n",
    "    print('.'*10)\n",
    "\n",
    "    end1='C'\n",
    "    end2='h'\n",
    "    end3='e'\n",
    "    end4='e'\n",
    "    end5='s'\n",
    "    end6='e'\n",
    "    end7='B'\n",
    "    end8='u'\n",
    "    end9='r'\n",
    "    end10='g'\n",
    "    end11='e'\n",
    "    end12='r'\n",
    "\n",
    "    print(end1+end2+end3+end4+end5+end6+ \\\n",
    "    end7+end8+end9+end10+end11+end12)\n",
    "\n",
    "if __name__ == \"__main__\":\n",
    "    main()\n"
   ]
  },
  {
   "cell_type": "code",
   "execution_count": null,
   "id": "bba5d128",
   "metadata": {},
   "outputs": [],
   "source": []
  }
 ],
 "metadata": {
  "kernelspec": {
   "display_name": "Python 3 (ipykernel)",
   "language": "python",
   "name": "python3"
  },
  "language_info": {
   "codemirror_mode": {
    "name": "ipython",
    "version": 3
   },
   "file_extension": ".py",
   "mimetype": "text/x-python",
   "name": "python",
   "nbconvert_exporter": "python",
   "pygments_lexer": "ipython3",
   "version": "3.10.4"
  }
 },
 "nbformat": 4,
 "nbformat_minor": 5
}
