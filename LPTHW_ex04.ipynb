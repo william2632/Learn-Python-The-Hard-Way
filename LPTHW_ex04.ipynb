{
 "cells": [
  {
   "cell_type": "code",
   "execution_count": 1,
   "id": "231b4b79",
   "metadata": {},
   "outputs": [
    {
     "name": "stdout",
     "output_type": "stream",
     "text": [
      "There are 100 cars available.\n",
      "There are only 30 drivers available.\n",
      "We can transport 120.0 people today.\n",
      "We have 90 to carpool today.\n",
      "We need to put about 3.0 in each car.\n",
      "Guru99_04\n"
     ]
    }
   ],
   "source": [
    "# Exercise 4: Variables and Names\n",
    "\n",
    "def main():\n",
    "    cars = 100\n",
    "    space_in_a_car = 4.0\n",
    "    drivers = 30\n",
    "    passengers = 90\n",
    "    cars_not_driven = cars - drivers\n",
    "    cars_driven = drivers\n",
    "    carpool_capacity = cars_driven * space_in_a_car\n",
    "    average_passengers_per_car = passengers / cars_driven\n",
    "    \n",
    "    print(\"There are\", cars, \"cars available.\")\n",
    "    print(\"There are only\",drivers,\"drivers available.\")\n",
    "    print(\"We can transport\",carpool_capacity,\"people today.\")\n",
    "    print(\"We have\",passengers,\"to carpool today.\")\n",
    "    print(\"We need to put about\",average_passengers_per_car,\"in each car.\")\n",
    "\n",
    "if __name__ == \"__main__\":\n",
    "    main()\n",
    "\n",
    "print(\"Guru99_04\")"
   ]
  },
  {
   "cell_type": "code",
   "execution_count": null,
   "id": "bba5d128",
   "metadata": {},
   "outputs": [],
   "source": []
  }
 ],
 "metadata": {
  "kernelspec": {
   "display_name": "Python 3 (ipykernel)",
   "language": "python",
   "name": "python3"
  },
  "language_info": {
   "codemirror_mode": {
    "name": "ipython",
    "version": 3
   },
   "file_extension": ".py",
   "mimetype": "text/x-python",
   "name": "python",
   "nbconvert_exporter": "python",
   "pygments_lexer": "ipython3",
   "version": "3.10.2"
  }
 },
 "nbformat": 4,
 "nbformat_minor": 5
}
