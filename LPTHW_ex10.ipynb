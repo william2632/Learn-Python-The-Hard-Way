{
 "cells": [
  {
   "cell_type": "code",
   "execution_count": 4,
   "id": "231b4b79",
   "metadata": {},
   "outputs": [
    {
     "name": "stdout",
     "output_type": "stream",
     "text": [
      "\tI'm tabbed in.\n",
      "I'm split\n",
      "on a line.\n",
      "I'm \\ a \\ cat.\n",
      "I'm \\\\ a \\\\ cat.\n",
      "\n",
      "    I'll do a list:\n",
      "    \t* Cat food\n",
      "    \t* Fishies\n",
      "    \t* Catnip\n",
      "\t* Grass\n",
      "    \n",
      "/\n",
      "-\n",
      "|\n",
      "\\\n",
      "|\n"
     ]
    }
   ],
   "source": [
    "# -*- coding: utf-8 -*-\n",
    "# Exercise 10: What Was That?\n",
    "\n",
    "def main():\n",
    "    tabby_cat = \"\\tI'm tabbed in.\"\n",
    "    persian_cat = \"I'm split\\non a line.\"\n",
    "    backslash_cat = \"I'm \\\\ a \\\\ cat.\"\n",
    "    backslash_catR = r\"I'm \\\\ a \\\\ cat.\"\n",
    "    fat_cat = '''\n",
    "    I'll do a list:\n",
    "    \\t* Cat food\n",
    "    \\t* Fishies\n",
    "    \\t* Catnip\\n\\t* Grass\n",
    "    '''\n",
    "\n",
    "    print(tabby_cat)\n",
    "    print(persian_cat)\n",
    "    print(backslash_cat)\n",
    "    print(backslash_catR)\n",
    "    print(fat_cat)\n",
    "\n",
    "    for i in [\"/\",\"-\",\"|\",\"\\\\\",\"|\"]:\n",
    "        print(\"%s\\r\"%i)\n",
    "\n",
    "if __name__ == \"__main__\":\n",
    "    main()\n"
   ]
  },
  {
   "cell_type": "code",
   "execution_count": null,
   "id": "bba5d128",
   "metadata": {},
   "outputs": [],
   "source": []
  }
 ],
 "metadata": {
  "kernelspec": {
   "display_name": "Python 3 (ipykernel)",
   "language": "python",
   "name": "python3"
  },
  "language_info": {
   "codemirror_mode": {
    "name": "ipython",
    "version": 3
   },
   "file_extension": ".py",
   "mimetype": "text/x-python",
   "name": "python",
   "nbconvert_exporter": "python",
   "pygments_lexer": "ipython3",
   "version": "3.10.4"
  }
 },
 "nbformat": 4,
 "nbformat_minor": 5
}
