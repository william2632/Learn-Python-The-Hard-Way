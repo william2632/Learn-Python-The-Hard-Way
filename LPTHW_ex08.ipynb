{
 "cells": [
  {
   "cell_type": "code",
   "execution_count": 7,
   "id": "231b4b79",
   "metadata": {},
   "outputs": [
    {
     "name": "stdout",
     "output_type": "stream",
     "text": [
      "1 2 '三' 四\n",
      "'one' 'two' 'three' four\n",
      "True False False True\n",
      "'%r %r %r %s' '%r %r %r %s' '%r %r %r %s' 2022-03-29\n",
      "'I had this thing.' 'That you could type up right.' \"But it didn't sing.\" So I said goodnight.\n"
     ]
    }
   ],
   "source": [
    "# -*- coding: utf-8 -*-\n",
    "# Exercise 8: Printing, Printing\n",
    "\n",
    "def main():\n",
    "    formatter = \"%r %r %r %s\"\n",
    "    print(formatter%(1,2,'三','四'))\n",
    "    print(formatter%(\"one\",\"two\",\"three\",\"four\"))\n",
    "    print(formatter%(True,False,False,True))\n",
    "    print(formatter%(formatter,formatter,formatter,'2022-03-29'))\n",
    "    print(formatter%(\n",
    "        'I had this thing.',\n",
    "        'That you could type up right.',\n",
    "        'But it didn\\'t sing.',\n",
    "        'So I said goodnight.'\n",
    "    ))\n",
    "\n",
    "\n",
    "\n",
    "if __name__ == \"__main__\":\n",
    "    main()\n"
   ]
  },
  {
   "cell_type": "code",
   "execution_count": null,
   "id": "bba5d128",
   "metadata": {},
   "outputs": [],
   "source": []
  }
 ],
 "metadata": {
  "kernelspec": {
   "display_name": "Python 3 (ipykernel)",
   "language": "python",
   "name": "python3"
  },
  "language_info": {
   "codemirror_mode": {
    "name": "ipython",
    "version": 3
   },
   "file_extension": ".py",
   "mimetype": "text/x-python",
   "name": "python",
   "nbconvert_exporter": "python",
   "pygments_lexer": "ipython3",
   "version": "3.10.4"
  }
 },
 "nbformat": 4,
 "nbformat_minor": 5
}
