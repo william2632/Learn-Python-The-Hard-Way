{
 "cells": [
  {
   "cell_type": "code",
   "execution_count": 1,
   "id": "231b4b79",
   "metadata": {},
   "outputs": [
    {
     "name": "stdout",
     "output_type": "stream",
     "text": [
      "I could have code like this.\n",
      "This will run\n",
      "Guru99_02\n"
     ]
    }
   ],
   "source": [
    "# Exercise 2: Comments and Pound Characters\n",
    "# A comment, this is so you can read your program later.\n",
    "# Anything after the # is ignored by python\n",
    "\n",
    "def main():\n",
    "    print(\"I could have code like this.\")   # and the comment after is ignored\n",
    "    # You can also use a comment to \"disable\" or comment out code:\n",
    "    # print(\"This won't run.\")\n",
    "    print(\"This will run\")\n",
    "\n",
    "if __name__ == \"__main__\":\n",
    "    main()\n",
    "\n",
    "print(\"Guru99_02\")"
   ]
  },
  {
   "cell_type": "code",
   "execution_count": null,
   "id": "bba5d128",
   "metadata": {},
   "outputs": [],
   "source": []
  }
 ],
 "metadata": {
  "kernelspec": {
   "display_name": "Python 3 (ipykernel)",
   "language": "python",
   "name": "python3"
  },
  "language_info": {
   "codemirror_mode": {
    "name": "ipython",
    "version": 3
   },
   "file_extension": ".py",
   "mimetype": "text/x-python",
   "name": "python",
   "nbconvert_exporter": "python",
   "pygments_lexer": "ipython3",
   "version": "3.10.2"
  }
 },
 "nbformat": 4,
 "nbformat_minor": 5
}
